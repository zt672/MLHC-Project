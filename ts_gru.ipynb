{
 "cells": [
  {
   "cell_type": "code",
   "execution_count": 1,
   "metadata": {},
   "outputs": [
    {
     "name": "stderr",
     "output_type": "stream",
     "text": [
      "2023-12-15 18:54:40.287326: I tensorflow/core/platform/cpu_feature_guard.cc:193] This TensorFlow binary is optimized with oneAPI Deep Neural Network Library (oneDNN) to use the following CPU instructions in performance-critical operations:  SSE4.1 SSE4.2\n",
      "To enable them in other operations, rebuild TensorFlow with the appropriate compiler flags.\n"
     ]
    }
   ],
   "source": [
    "import pandas as pd\n",
    "import numpy as np\n",
    "from sklearn.preprocessing import StandardScaler\n",
    "from imblearn.under_sampling import RandomUnderSampler\n",
    "from tensorflow.keras.models import Model\n",
    "from tensorflow.keras.layers import Input, GRU, Dense, Dropout, TimeDistributed, Masking\n",
    "from tensorflow.keras.optimizers import Adam\n",
    "from tensorflow.keras.callbacks import EarlyStopping\n",
    "from sklearn.metrics import roc_auc_score, roc_curve\n",
    "import matplotlib.pyplot as plt\n",
    "from sklearn.metrics import precision_recall_fscore_support"
   ]
  },
  {
   "cell_type": "code",
   "execution_count": 2,
   "metadata": {},
   "outputs": [],
   "source": [
    "physiological = pd.read_csv('ts.csv')\n",
    "test_ids = pd.read_csv('demo_xgb.csv')\n",
    "\n",
    "# convert 'charttime_hour' to datetime\n",
    "physiological['charttime'] = pd.to_datetime(physiological['charttime'])\n",
    "\n",
    "# standardization\n",
    "excluded_cols = ['subject_id', 'hadm_id', 'mortality']\n",
    "numeric_cols = physiological.select_dtypes(include=[np.number]).columns.difference(excluded_cols)\n",
    "\n",
    "scaler = StandardScaler()\n",
    "physiological[numeric_cols] = scaler.fit_transform(physiological[numeric_cols])\n",
    "\n",
    "# split the dataset into train and test sets\n",
    "test_patient_ids = test_ids['ID'].unique()\n",
    "train_data = physiological[~physiological['subject_id'].isin(test_patient_ids)]\n",
    "test_data = physiological[physiological['subject_id'].isin(test_patient_ids)]"
   ]
  },
  {
   "cell_type": "code",
   "execution_count": 3,
   "metadata": {},
   "outputs": [
    {
     "name": "stderr",
     "output_type": "stream",
     "text": [
      "/var/folders/b1/7h87qwzd05bdwb89lg3shn_m0000gn/T/ipykernel_79033/674243456.py:23: FutureWarning: DataFrame.mean and DataFrame.median with numeric_only=None will include datetime64 and datetime64tz columns in a future version.\n",
      "  column_means = data.mean()\n",
      "/var/folders/b1/7h87qwzd05bdwb89lg3shn_m0000gn/T/ipykernel_79033/674243456.py:23: FutureWarning: DataFrame.mean and DataFrame.median with numeric_only=None will include datetime64 and datetime64tz columns in a future version.\n",
      "  column_means = data.mean()\n"
     ]
    }
   ],
   "source": [
    "# determine maxlen\n",
    "combined_data = pd.concat([train_data, test_data])\n",
    "combined_sequences = [group.values for _, group in combined_data.groupby('subject_id')]\n",
    "combined_lengths = [len(seq) for seq in combined_sequences]\n",
    "max_len = int(np.percentile(combined_lengths, 95))\n",
    "\n",
    "def custom_pad_sequences(sequences, dtype='float32', padding_value=0.0):\n",
    "\n",
    "    # initialize the padded sequences array\n",
    "    feature_count = sequences[0].shape[1] if sequences else 0\n",
    "    padded_sequences = np.full((len(sequences), max_len, feature_count), padding_value, dtype=dtype)\n",
    "\n",
    "    # pad each sequence\n",
    "    for i, seq in enumerate(sequences):\n",
    "        length = min(len(seq), max_len)\n",
    "        padded_sequences[i, :length, :] = seq[:length, :]\n",
    "    return padded_sequences\n",
    "\n",
    "def prepare_sequences_and_labels(data, label_col_name='mortality'):\n",
    "    sequences = []\n",
    "    labels = []\n",
    "    \n",
    "    column_means = data.mean()\n",
    "\n",
    "    for subject_id, group in data.groupby('subject_id'):\n",
    "        # calculate time intervals\n",
    "        time_diff = group['charttime'].diff().fillna(pd.Timedelta(seconds=0))\n",
    "        group['time_interval'] = time_diff.dt.total_seconds() / 3600.0\n",
    "\n",
    "        # get the label from the first row and remove label column\n",
    "        label = group[label_col_name].iloc[0]\n",
    "        group = group.drop(columns=[label_col_name, 'charttime', 'subject_id', 'hadm_id'])\n",
    "\n",
    "        # forward fill missing values\n",
    "        group.ffill(inplace=True)\n",
    "\n",
    "        # fill any remaining NaNs with the column mean\n",
    "        for column in group.columns:\n",
    "            if group[column].isna().any():\n",
    "                group[column].fillna(column_means[column], inplace=True)\n",
    "\n",
    "        # store sequences and labels\n",
    "        sequences.append(group.values)\n",
    "        labels.append(label)\n",
    "\n",
    "    # pad sequences using custom_pad_sequences function\n",
    "    padded_sequences = custom_pad_sequences(sequences)\n",
    "\n",
    "    # convert labels to an array\n",
    "    labels_array = np.array(labels)\n",
    "\n",
    "    return padded_sequences, labels_array\n",
    "\n",
    "# training and test data\n",
    "train_sequences, train_labels = prepare_sequences_and_labels(train_data)\n",
    "test_sequences, test_labels = prepare_sequences_and_labels(test_data)"
   ]
  },
  {
   "cell_type": "code",
   "execution_count": 4,
   "metadata": {},
   "outputs": [
    {
     "name": "stderr",
     "output_type": "stream",
     "text": [
      "/var/folders/b1/7h87qwzd05bdwb89lg3shn_m0000gn/T/ipykernel_79033/674243456.py:23: FutureWarning: DataFrame.mean and DataFrame.median with numeric_only=None will include datetime64 and datetime64tz columns in a future version.\n",
      "  column_means = data.mean()\n",
      "/var/folders/b1/7h87qwzd05bdwb89lg3shn_m0000gn/T/ipykernel_79033/674243456.py:23: FutureWarning: DataFrame.mean and DataFrame.median with numeric_only=None will include datetime64 and datetime64tz columns in a future version.\n",
      "  column_means = data.mean()\n"
     ]
    }
   ],
   "source": [
    "def undersample_sequences(sequences, labels):\n",
    "    # reshape the sequences for undersampling\n",
    "    nsamples, nx, ny = sequences.shape\n",
    "    sequences_reshaped = sequences.reshape((nsamples, nx * ny))\n",
    "\n",
    "    # undersampling\n",
    "    rus = RandomUnderSampler(random_state=19437278)\n",
    "    X_resampled, y_resampled = rus.fit_resample(sequences_reshaped, labels)\n",
    "\n",
    "    # reshape the sequences back to original shape\n",
    "    nsamples, _ = X_resampled.shape\n",
    "    sequences_resampled = X_resampled.reshape((nsamples, nx, ny))\n",
    "\n",
    "    return sequences_resampled, y_resampled\n",
    "\n",
    "# training and test data\n",
    "train_sequences, train_labels = prepare_sequences_and_labels(train_data)\n",
    "test_sequences, test_labels = prepare_sequences_and_labels(test_data)\n",
    "\n",
    "# perform undersampling on the training data\n",
    "train_sequences_resampled, train_labels_resampled = undersample_sequences(train_sequences, train_labels)"
   ]
  },
  {
   "cell_type": "code",
   "execution_count": 5,
   "metadata": {},
   "outputs": [],
   "source": [
    "# extracting features from the sequences\n",
    "train_features = train_sequences_resampled \n",
    "test_features = test_sequences "
   ]
  },
  {
   "cell_type": "code",
   "execution_count": 6,
   "metadata": {},
   "outputs": [
    {
     "name": "stderr",
     "output_type": "stream",
     "text": [
      "2023-12-15 18:56:10.215227: I tensorflow/core/platform/cpu_feature_guard.cc:193] This TensorFlow binary is optimized with oneAPI Deep Neural Network Library (oneDNN) to use the following CPU instructions in performance-critical operations:  SSE4.1 SSE4.2\n",
      "To enable them in other operations, rebuild TensorFlow with the appropriate compiler flags.\n"
     ]
    }
   ],
   "source": [
    "def build_gru_model(input_shape, masking_value=0.3):\n",
    "    main_input = Input(shape=input_shape, name='main_input')\n",
    "    masked_input = Masking(mask_value=masking_value)(main_input)\n",
    "\n",
    "    gru_layer1 = GRU(128, return_sequences=True)(masked_input)\n",
    "    dropout1 = Dropout(0.1)(gru_layer1)\n",
    "\n",
    "    gru_layer2 = GRU(64)(dropout1)\n",
    "    dropout2 = Dropout(0.1)(gru_layer2)\n",
    "\n",
    "    output = Dense(1, activation='sigmoid')(dropout2)\n",
    "\n",
    "    model = Model(inputs=main_input, outputs=output)\n",
    "    model.compile(optimizer=Adam(learning_rate=0.001), loss='binary_crossentropy', metrics=['accuracy'])\n",
    "\n",
    "    return model\n",
    "\n",
    "input_shape = train_features.shape[1:]  \n",
    "\n",
    "model = build_gru_model(input_shape)"
   ]
  },
  {
   "cell_type": "code",
   "execution_count": 7,
   "metadata": {},
   "outputs": [
    {
     "name": "stdout",
     "output_type": "stream",
     "text": [
      "Epoch 1/100\n",
      "76/76 [==============================] - 11s 73ms/step - loss: 0.6799 - accuracy: 0.5776 - val_loss: 0.7821 - val_accuracy: 0.1041\n",
      "Epoch 2/100\n",
      "76/76 [==============================] - 3s 45ms/step - loss: 0.6610 - accuracy: 0.6199 - val_loss: 0.7767 - val_accuracy: 0.5613\n",
      "Epoch 3/100\n",
      "76/76 [==============================] - 3s 46ms/step - loss: 0.6406 - accuracy: 0.6340 - val_loss: 0.7852 - val_accuracy: 0.5130\n",
      "Epoch 4/100\n",
      "76/76 [==============================] - 3s 45ms/step - loss: 0.6279 - accuracy: 0.6427 - val_loss: 0.8050 - val_accuracy: 0.4907\n",
      "Epoch 5/100\n",
      "76/76 [==============================] - 3s 45ms/step - loss: 0.6178 - accuracy: 0.6625 - val_loss: 0.9468 - val_accuracy: 0.3011\n",
      "Epoch 6/100\n",
      "76/76 [==============================] - 3s 45ms/step - loss: 0.6022 - accuracy: 0.6803 - val_loss: 0.8434 - val_accuracy: 0.4684\n",
      "Epoch 7/100\n",
      "76/76 [==============================] - 3s 45ms/step - loss: 0.5969 - accuracy: 0.6778 - val_loss: 0.8648 - val_accuracy: 0.4796\n",
      "Epoch 8/100\n",
      "76/76 [==============================] - 4s 46ms/step - loss: 0.5903 - accuracy: 0.6853 - val_loss: 0.8219 - val_accuracy: 0.4387\n",
      "Epoch 9/100\n",
      "76/76 [==============================] - 3s 45ms/step - loss: 0.5778 - accuracy: 0.6803 - val_loss: 0.8992 - val_accuracy: 0.3420\n",
      "Epoch 10/100\n",
      "76/76 [==============================] - 3s 45ms/step - loss: 0.5579 - accuracy: 0.7085 - val_loss: 0.9658 - val_accuracy: 0.3978\n",
      "Epoch 11/100\n",
      "76/76 [==============================] - 3s 45ms/step - loss: 0.5504 - accuracy: 0.7126 - val_loss: 0.7232 - val_accuracy: 0.6468\n",
      "Epoch 12/100\n",
      "76/76 [==============================] - 4s 46ms/step - loss: 0.5305 - accuracy: 0.7168 - val_loss: 1.0823 - val_accuracy: 0.4312\n",
      "Epoch 13/100\n",
      "76/76 [==============================] - 3s 45ms/step - loss: 0.5280 - accuracy: 0.7251 - val_loss: 1.0542 - val_accuracy: 0.4015\n",
      "Epoch 14/100\n",
      "76/76 [==============================] - 3s 45ms/step - loss: 0.5110 - accuracy: 0.7350 - val_loss: 1.0993 - val_accuracy: 0.3755\n",
      "Epoch 15/100\n",
      "76/76 [==============================] - 3s 45ms/step - loss: 0.4955 - accuracy: 0.7429 - val_loss: 0.8633 - val_accuracy: 0.4796\n",
      "Epoch 16/100\n",
      "76/76 [==============================] - 4s 46ms/step - loss: 0.4855 - accuracy: 0.7404 - val_loss: 0.9469 - val_accuracy: 0.5836\n",
      "Epoch 17/100\n",
      "76/76 [==============================] - 3s 45ms/step - loss: 0.4558 - accuracy: 0.7714 - val_loss: 1.1288 - val_accuracy: 0.4981\n",
      "Epoch 18/100\n",
      "76/76 [==============================] - 3s 45ms/step - loss: 0.4415 - accuracy: 0.7793 - val_loss: 0.9904 - val_accuracy: 0.4387\n",
      "Epoch 19/100\n",
      "76/76 [==============================] - 3s 45ms/step - loss: 0.4199 - accuracy: 0.7909 - val_loss: 0.9589 - val_accuracy: 0.4870\n",
      "Epoch 20/100\n",
      "76/76 [==============================] - 4s 47ms/step - loss: 0.4045 - accuracy: 0.7925 - val_loss: 1.3220 - val_accuracy: 0.4349\n",
      "Epoch 21/100\n",
      "76/76 [==============================] - 4s 46ms/step - loss: 0.3825 - accuracy: 0.8112 - val_loss: 1.3357 - val_accuracy: 0.4238\n"
     ]
    }
   ],
   "source": [
    "# early stopping\n",
    "early_stopping = EarlyStopping(monitor='val_loss', patience=10, restore_best_weights=True)\n",
    "\n",
    "history = model.fit(train_features, train_labels_resampled, epochs=100, batch_size=32, validation_split=0.1, callbacks=[early_stopping])"
   ]
  },
  {
   "cell_type": "code",
   "execution_count": 8,
   "metadata": {},
   "outputs": [
    {
     "name": "stdout",
     "output_type": "stream",
     "text": [
      "87/87 [==============================] - 1s 13ms/step - loss: 0.7513 - accuracy: 0.5441\n",
      "Test Loss: 0.7512905597686768, Test Accuracy: 0.5440806150436401\n"
     ]
    }
   ],
   "source": [
    "# evaluation\n",
    "test_loss, test_accuracy = model.evaluate(test_features, test_labels)\n",
    "print(f'Test Loss: {test_loss}, Test Accuracy: {test_accuracy}')"
   ]
  },
  {
   "cell_type": "code",
   "execution_count": 9,
   "metadata": {},
   "outputs": [
    {
     "name": "stdout",
     "output_type": "stream",
     "text": [
      "87/87 [==============================] - 3s 13ms/step\n",
      "Test AUC: 0.6647857650122306\n"
     ]
    },
    {
     "data": {
      "image/png": "[encoded data removed]",
      "text/plain": [
       "<Figure size 576x432 with 1 Axes>"
      ]
     },
     "metadata": {
      "needs_background": "light"
     },
     "output_type": "display_data"
    }
   ],
   "source": [
    "test_probabilities = model.predict(test_features)\n",
    "\n",
    "# AUC score\n",
    "auc_score = roc_auc_score(test_labels, test_probabilities)\n",
    "print(f'Test AUC: {auc_score}')\n",
    "\n",
    "# ROC curve\n",
    "fpr, tpr, thresholds = roc_curve(test_labels, test_probabilities)\n",
    "\n",
    "plt.figure(figsize=(8, 6))\n",
    "plt.plot(fpr, tpr, color='darkorange', lw=2, label='ROC curve (area = %0.2f)' % auc_score)\n",
    "plt.plot([0, 1], [0, 1], color='gray', lw=2, linestyle='--')\n",
    "plt.xlim([0.0, 1.0])\n",
    "plt.ylim([0.0, 1.05])\n",
    "plt.xlabel('False Positive Rate')\n",
    "plt.ylabel('True Positive Rate')\n",
    "plt.title('GRU ROC Curve')\n",
    "plt.legend(loc=\"lower right\")\n",
    "plt.show()"
   ]
  },
  {
   "cell_type": "code",
   "execution_count": 10,
   "metadata": {},
   "outputs": [
    {
     "name": "stdout",
     "output_type": "stream",
     "text": [
      "Precision: 0.2693333333333333\n",
      "Recall: 0.7026086956521739\n",
      "F1-Score: 0.3893975903614457\n"
     ]
    }
   ],
   "source": [
    "test_predictions = (test_probabilities >= 0.5).astype(int)\n",
    "\n",
    "precision, recall, f1, _ = precision_recall_fscore_support(test_labels, test_predictions, average='binary')\n",
    "\n",
    "print(f'Precision: {precision}')\n",
    "print(f'Recall: {recall}')\n",
    "print(f'F1-Score: {f1}')"
   ]
  },
  {
   "cell_type": "code",
   "execution_count": 11,
   "metadata": {},
   "outputs": [],
   "source": [
    "results_df = pd.DataFrame({\n",
    "    'ID': test_data['subject_id'].sort_values().unique(),\n",
    "    'Probability': test_probabilities.flatten(),\n",
    "    'Mortality': test_labels\n",
    "})\n",
    "results_df.to_csv('ts_gru.csv', index=False)"
   ]
  }
 ],
 "metadata": {
  "kernelspec": {
   "display_name": "tf",
   "language": "python",
   "name": "python3"
  },
  "language_info": {
   "codemirror_mode": {
    "name": "ipython",
    "version": 3
   },
   "file_extension": ".py",
   "mimetype": "text/x-python",
   "name": "python",
   "nbconvert_exporter": "python",
   "pygments_lexer": "ipython3",
   "version": "3.10.9"
  }
 },
 "nbformat": 4,
 "nbformat_minor": 2
}
