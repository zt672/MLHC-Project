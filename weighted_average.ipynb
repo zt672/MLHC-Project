{
 "cells": [
  {
   "cell_type": "code",
   "execution_count": 1,
   "metadata": {},
   "outputs": [],
   "source": [
    "import numpy as np\n",
    "from sklearn.metrics import roc_auc_score, precision_score, recall_score, f1_score, roc_curve\n",
    "import matplotlib.pyplot as plt\n",
    "import pandas as pd\n",
    "import lightgbm as lgb\n",
    "from sklearn.preprocessing import StandardScaler\n",
    "from sklearn.metrics import roc_auc_score, precision_recall_fscore_support"
   ]
  },
  {
   "cell_type": "code",
   "execution_count": 2,
   "metadata": {},
   "outputs": [],
   "source": [
    "demo = pd.read_csv('demo_xgb.csv')\n",
    "notes = pd.read_csv('notes_cnn.csv')\n",
    "ts = pd.read_csv('ts_gru.csv')"
   ]
  },
  {
   "cell_type": "code",
   "execution_count": 3,
   "metadata": {},
   "outputs": [],
   "source": [
    "# rename the columns\n",
    "demo = demo.rename(columns={'Probability': 'demo_prob'})\n",
    "notes = notes.rename(columns={'Probability': 'notes_prob'})\n",
    "ts = ts.rename(columns={'Probability': 'ts_prob'})\n",
    "\n",
    "# merge the DataFrames on 'ID'\n",
    "fusion_data = pd.merge(demo[['ID', 'demo_prob', 'Mortality']], \n",
    "                     notes[['ID', 'notes_prob']], \n",
    "                     on='ID')\n",
    "fusion_data = pd.merge(fusion_data, ts[['ID', 'ts_prob']], \n",
    "                     on='ID')"
   ]
  },
  {
   "cell_type": "code",
   "execution_count": 4,
   "metadata": {},
   "outputs": [
    {
     "data": {
      "text/html": [
       "<div>\n",
       "<style scoped>\n",
       "    .dataframe tbody tr th:only-of-type {\n",
       "        vertical-align: middle;\n",
       "    }\n",
       "\n",
       "    .dataframe tbody tr th {\n",
       "        vertical-align: top;\n",
       "    }\n",
       "\n",
       "    .dataframe thead th {\n",
       "        text-align: right;\n",
       "    }\n",
       "</style>\n",
       "<table border=\"1\" class=\"dataframe\">\n",
       "  <thead>\n",
       "    <tr style=\"text-align: right;\">\n",
       "      <th></th>\n",
       "      <th>ID</th>\n",
       "      <th>demo_prob</th>\n",
       "      <th>Mortality</th>\n",
       "      <th>notes_prob</th>\n",
       "      <th>ts_prob</th>\n",
       "    </tr>\n",
       "  </thead>\n",
       "  <tbody>\n",
       "    <tr>\n",
       "      <th>0</th>\n",
       "      <td>360.0</td>\n",
       "      <td>0.542043</td>\n",
       "      <td>0.0</td>\n",
       "      <td>0.629179</td>\n",
       "      <td>0.483322</td>\n",
       "    </tr>\n",
       "    <tr>\n",
       "      <th>1</th>\n",
       "      <td>94.0</td>\n",
       "      <td>0.496013</td>\n",
       "      <td>0.0</td>\n",
       "      <td>0.035935</td>\n",
       "      <td>0.443623</td>\n",
       "    </tr>\n",
       "    <tr>\n",
       "      <th>2</th>\n",
       "      <td>141.0</td>\n",
       "      <td>0.649976</td>\n",
       "      <td>1.0</td>\n",
       "      <td>0.999956</td>\n",
       "      <td>0.954371</td>\n",
       "    </tr>\n",
       "    <tr>\n",
       "      <th>3</th>\n",
       "      <td>330.0</td>\n",
       "      <td>0.243745</td>\n",
       "      <td>0.0</td>\n",
       "      <td>0.000002</td>\n",
       "      <td>0.124060</td>\n",
       "    </tr>\n",
       "    <tr>\n",
       "      <th>4</th>\n",
       "      <td>356.0</td>\n",
       "      <td>0.531977</td>\n",
       "      <td>1.0</td>\n",
       "      <td>0.999864</td>\n",
       "      <td>0.558700</td>\n",
       "    </tr>\n",
       "  </tbody>\n",
       "</table>\n",
       "</div>"
      ],
      "text/plain": [
       "      ID  demo_prob  Mortality  notes_prob   ts_prob\n",
       "0  360.0   0.542043        0.0    0.629179  0.483322\n",
       "1   94.0   0.496013        0.0    0.035935  0.443623\n",
       "2  141.0   0.649976        1.0    0.999956  0.954371\n",
       "3  330.0   0.243745        0.0    0.000002  0.124060\n",
       "4  356.0   0.531977        1.0    0.999864  0.558700"
      ]
     },
     "execution_count": 4,
     "metadata": {},
     "output_type": "execute_result"
    }
   ],
   "source": [
    "fusion_data.head()"
   ]
  },
  {
   "cell_type": "code",
   "execution_count": 5,
   "metadata": {},
   "outputs": [
    {
     "name": "stdout",
     "output_type": "stream",
     "text": [
      "Best AUC: 0.8057571214392805 with weights 0.6363636363636365 for model 1, 0.1910009182736455 for model 2, and 0.17263544536271805 for model 3\n"
     ]
    }
   ],
   "source": [
    "best_auc = 0\n",
    "best_weights = (0, 0, 0)  \n",
    "best_combined_proba = None \n",
    "\n",
    "for w1 in np.linspace(0, 1, num=100):  \n",
    "    for w2 in np.linspace(0, 1 - w1, num=100):  \n",
    "        w3 = 1 - w1 - w2  \n",
    "        combined_proba = w1 * fusion_data['demo_prob'] + w2 * fusion_data['notes_prob'] + w3 * fusion_data['ts_prob']\n",
    "        auc = roc_auc_score(fusion_data['Mortality'], combined_proba)\n",
    "        \n",
    "        if auc > best_auc:\n",
    "            best_auc = auc\n",
    "            best_weights = (w1, w2, w3)\n",
    "            best_combined_proba = combined_proba\n",
    "\n",
    "print(f\"Best AUC: {best_auc} with weights {best_weights[0]} for model 1, {best_weights[1]} for model 2, and {best_weights[2]} for model 3\")"
   ]
  },
  {
   "cell_type": "code",
   "execution_count": 6,
   "metadata": {},
   "outputs": [
    {
     "name": "stdout",
     "output_type": "stream",
     "text": [
      "Precision: 0.4163306451612903\n",
      "Recall: 0.7182608695652174\n",
      "F1 Score: 0.5271218889597957\n"
     ]
    }
   ],
   "source": [
    "y_pred = (best_combined_proba > 0.5).astype(int)\n",
    "\n",
    "\n",
    "precision = precision_score(fusion_data['Mortality'], y_pred)\n",
    "recall = recall_score(fusion_data['Mortality'], y_pred)\n",
    "f1 = f1_score(fusion_data['Mortality'], y_pred)\n",
    "\n",
    "print(f\"Precision: {precision}\")\n",
    "print(f\"Recall: {recall}\")\n",
    "print(f\"F1 Score: {f1}\")"
   ]
  }
 ],
 "metadata": {
  "kernelspec": {
   "display_name": "tf",
   "language": "python",
   "name": "python3"
  },
  "language_info": {
   "codemirror_mode": {
    "name": "ipython",
    "version": 3
   },
   "file_extension": ".py",
   "mimetype": "text/x-python",
   "name": "python",
   "nbconvert_exporter": "python",
   "pygments_lexer": "ipython3",
   "version": "3.10.9"
  }
 },
 "nbformat": 4,
 "nbformat_minor": 2
}
