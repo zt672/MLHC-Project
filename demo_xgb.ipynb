{
  "cells": [
    {
      "cell_type": "code",
      "execution_count": 2,
      "metadata": {
        "id": "TIHiNJd_zhwc"
      },
      "outputs": [],
      "source": [
        "import pandas as pd\n",
        "import numpy as np\n",
        "import warnings\n",
        "warnings.filterwarnings('ignore')\n",
        "from sklearn.model_selection import train_test_split\n",
        "from sklearn.preprocessing import StandardScaler\n",
        "from sklearn.model_selection import RandomizedSearchCV\n",
        "from sklearn.metrics import roc_auc_score, roc_curve, precision_score, recall_score, f1_score\n",
        "import xgboost as xgb\n",
        "import matplotlib.pyplot as plt\n",
        "from imblearn.under_sampling import RandomUnderSampler\n",
        "from sklearn.experimental import enable_iterative_imputer\n",
        "from sklearn.impute import IterativeImputer"
      ]
    },
    {
      "cell_type": "code",
      "execution_count": 3,
      "metadata": {
        "id": "21G6OQGY0InV"
      },
      "outputs": [],
      "source": [
        "demographic = pd.read_csv('demographic.csv')"
      ]
    },
    {
      "cell_type": "code",
      "execution_count": 4,
      "metadata": {
        "id": "PiG795o20PyX"
      },
      "outputs": [],
      "source": [
        "# function to recode the ethnicity column based on the given conditions\n",
        "def recode_ethnicity(cell):\n",
        "    if 'ASIAN' in cell:\n",
        "        return 'ASIAN'\n",
        "    elif 'WHITE' in cell:\n",
        "        return 'WHITE'\n",
        "    elif 'BLACK' in cell:\n",
        "        return 'BLACK'\n",
        "    elif 'HISPANIC' in cell:\n",
        "        return 'HISPANIC'\n",
        "    else:\n",
        "        return 'OTHERS'\n",
        "\n",
        "demographic['ethnicity'] = demographic['ethnicity'].apply(recode_ethnicity)"
      ]
    },
    {
      "cell_type": "code",
      "execution_count": 5,
      "metadata": {
        "id": "gskdXOC_0YKs"
      },
      "outputs": [],
      "source": [
        "numerical_columns = ['age', 'bmi', 'avg_sofa_score']\n",
        "categorical_columns = ['mech_vent', 'gender', 'ethnicity', 'metastatic_cancer', 'admission_type']\n",
        "\n",
        "# select the specified features into a new DataFrame called 'demo_filtered'\n",
        "demo_filtered = demographic[numerical_columns + ['mortality'] + categorical_columns + ['subject_id']]"
      ]
    },
    {
      "cell_type": "code",
      "execution_count": 6,
      "metadata": {
        "id": "Vjtqqs3e0wKi"
      },
      "outputs": [],
      "source": [
        "# one-hot encoding on the categorical variables within the demo_filtered dataframe\n",
        "demo_filtered_encoded = pd.get_dummies(demo_filtered, columns=categorical_columns)"
      ]
    },
    {
      "cell_type": "code",
      "execution_count": 7,
      "metadata": {
        "id": "ZoiDxlBZiafm"
      },
      "outputs": [],
      "source": [
        "# initialize the MICE imputer\n",
        "mice_imputer = IterativeImputer(random_state=19437278)\n",
        "\n",
        "# fit the imputer and transform the DataFrame\n",
        "df_imputed = pd.DataFrame(mice_imputer.fit_transform(demo_filtered_encoded), columns=demo_filtered_encoded.columns)"
      ]
    },
    {
      "cell_type": "code",
      "execution_count": 8,
      "metadata": {
        "id": "4PPGV_Mb01ZZ"
      },
      "outputs": [],
      "source": [
        "# split the data into features (X) and target (y)\n",
        "X = df_imputed.drop(['mortality', 'subject_id'], axis=1)\n",
        "y = df_imputed['mortality']\n",
        "\n",
        "# standardization\n",
        "scaler = StandardScaler()\n",
        "X_standard = scaler.fit_transform(X)\n",
        "\n",
        "# split the dataset into training and testing sets\n",
        "X_train, X_test, y_train, y_test = train_test_split(X, y, test_size=0.3, stratify=y, random_state=19437278)\n",
        "\n",
        "# extracting test set subject_ids\n",
        "test_ids = df_imputed[df_imputed.index.isin(X_test.index)]['subject_id']"
      ]
    },
    {
      "cell_type": "code",
      "execution_count": 9,
      "metadata": {
        "id": "1lO80Ql61Pet"
      },
      "outputs": [],
      "source": [
        "# apply RandomUnderSampler to the training data\n",
        "rus = RandomUnderSampler(random_state=19437278)\n",
        "X_train_resampled, y_train_resampled = rus.fit_resample(X_train, y_train)"
      ]
    },
    {
      "cell_type": "code",
      "execution_count": 10,
      "metadata": {
        "colab": {
          "base_uri": "https://localhost:8080/",
          "height": 136
        },
        "id": "5BKxCfwT11OC",
        "outputId": "e126c93a-82d0-4298-a041-f56e6c4d5018"
      },
      "outputs": [
        {
          "name": "stdout",
          "output_type": "stream",
          "text": [
            "Fitting 10 folds for each of 10 candidates, totalling 100 fits\n"
          ]
        },
        {
          "data": {
            "text/html": [
              "<style>#sk-container-id-1 {color: black;background-color: white;}#sk-container-id-1 pre{padding: 0;}#sk-container-id-1 div.sk-toggleable {background-color: white;}#sk-container-id-1 label.sk-toggleable__label {cursor: pointer;display: block;width: 100%;margin-bottom: 0;padding: 0.3em;box-sizing: border-box;text-align: center;}#sk-container-id-1 label.sk-toggleable__label-arrow:before {content: \"▸\";float: left;margin-right: 0.25em;color: #696969;}#sk-container-id-1 label.sk-toggleable__label-arrow:hover:before {color: black;}#sk-container-id-1 div.sk-estimator:hover label.sk-toggleable__label-arrow:before {color: black;}#sk-container-id-1 div.sk-toggleable__content {max-height: 0;max-width: 0;overflow: hidden;text-align: left;background-color: #f0f8ff;}#sk-container-id-1 div.sk-toggleable__content pre {margin: 0.2em;color: black;border-radius: 0.25em;background-color: #f0f8ff;}#sk-container-id-1 input.sk-toggleable__control:checked~div.sk-toggleable__content {max-height: 200px;max-width: 100%;overflow: auto;}#sk-container-id-1 input.sk-toggleable__control:checked~label.sk-toggleable__label-arrow:before {content: \"▾\";}#sk-container-id-1 div.sk-estimator input.sk-toggleable__control:checked~label.sk-toggleable__label {background-color: #d4ebff;}#sk-container-id-1 div.sk-label input.sk-toggleable__control:checked~label.sk-toggleable__label {background-color: #d4ebff;}#sk-container-id-1 input.sk-hidden--visually {border: 0;clip: rect(1px 1px 1px 1px);clip: rect(1px, 1px, 1px, 1px);height: 1px;margin: -1px;overflow: hidden;padding: 0;position: absolute;width: 1px;}#sk-container-id-1 div.sk-estimator {font-family: monospace;background-color: #f0f8ff;border: 1px dotted black;border-radius: 0.25em;box-sizing: border-box;margin-bottom: 0.5em;}#sk-container-id-1 div.sk-estimator:hover {background-color: #d4ebff;}#sk-container-id-1 div.sk-parallel-item::after {content: \"\";width: 100%;border-bottom: 1px solid gray;flex-grow: 1;}#sk-container-id-1 div.sk-label:hover label.sk-toggleable__label {background-color: #d4ebff;}#sk-container-id-1 div.sk-serial::before {content: \"\";position: absolute;border-left: 1px solid gray;box-sizing: border-box;top: 0;bottom: 0;left: 50%;z-index: 0;}#sk-container-id-1 div.sk-serial {display: flex;flex-direction: column;align-items: center;background-color: white;padding-right: 0.2em;padding-left: 0.2em;position: relative;}#sk-container-id-1 div.sk-item {position: relative;z-index: 1;}#sk-container-id-1 div.sk-parallel {display: flex;align-items: stretch;justify-content: center;background-color: white;position: relative;}#sk-container-id-1 div.sk-item::before, #sk-container-id-1 div.sk-parallel-item::before {content: \"\";position: absolute;border-left: 1px solid gray;box-sizing: border-box;top: 0;bottom: 0;left: 50%;z-index: -1;}#sk-container-id-1 div.sk-parallel-item {display: flex;flex-direction: column;z-index: 1;position: relative;background-color: white;}#sk-container-id-1 div.sk-parallel-item:first-child::after {align-self: flex-end;width: 50%;}#sk-container-id-1 div.sk-parallel-item:last-child::after {align-self: flex-start;width: 50%;}#sk-container-id-1 div.sk-parallel-item:only-child::after {width: 0;}#sk-container-id-1 div.sk-dashed-wrapped {border: 1px dashed gray;margin: 0 0.4em 0.5em 0.4em;box-sizing: border-box;padding-bottom: 0.4em;background-color: white;}#sk-container-id-1 div.sk-label label {font-family: monospace;font-weight: bold;display: inline-block;line-height: 1.2em;}#sk-container-id-1 div.sk-label-container {text-align: center;}#sk-container-id-1 div.sk-container {/* jupyter's `normalize.less` sets `[hidden] { display: none; }` but bootstrap.min.css set `[hidden] { display: none !important; }` so we also need the `!important` here to be able to override the default hidden behavior on the sphinx rendered scikit-learn.org. See: https://github.com/scikit-learn/scikit-learn/issues/21755 */display: inline-block !important;position: relative;}#sk-container-id-1 div.sk-text-repr-fallback {display: none;}</style><div id=\"sk-container-id-1\" class=\"sk-top-container\"><div class=\"sk-text-repr-fallback\"><pre>RandomizedSearchCV(cv=10,\n",
              "                   estimator=XGBClassifier(base_score=None, booster=None,\n",
              "                                           callbacks=None,\n",
              "                                           colsample_bylevel=None,\n",
              "                                           colsample_bynode=None,\n",
              "                                           colsample_bytree=None,\n",
              "                                           early_stopping_rounds=None,\n",
              "                                           enable_categorical=False,\n",
              "                                           eval_metric=None, feature_types=None,\n",
              "                                           gamma=None, gpu_id=None,\n",
              "                                           grow_policy=None,\n",
              "                                           importance_type=None,\n",
              "                                           interaction_constraints=None,\n",
              "                                           learning_rat...\n",
              "                                           min_child_weight=None, missing=nan,\n",
              "                                           monotone_constraints=None,\n",
              "                                           n_estimators=100, n_jobs=None,\n",
              "                                           num_parallel_tree=None,\n",
              "                                           predictor=None, random_state=None, ...),\n",
              "                   param_distributions={&#x27;colsample_bytree&#x27;: [0.8, 0.9, 1],\n",
              "                                        &#x27;learning_rate&#x27;: [0.01, 0.05, 0.1],\n",
              "                                        &#x27;max_depth&#x27;: [3, 4, 5],\n",
              "                                        &#x27;n_estimators&#x27;: [100, 200, 300],\n",
              "                                        &#x27;subsample&#x27;: [0.8, 0.9, 1]},\n",
              "                   random_state=19437278, scoring=&#x27;roc_auc&#x27;, verbose=1)</pre><b>In a Jupyter environment, please rerun this cell to show the HTML representation or trust the notebook. <br />On GitHub, the HTML representation is unable to render, please try loading this page with nbviewer.org.</b></div><div class=\"sk-container\" hidden><div class=\"sk-item sk-dashed-wrapped\"><div class=\"sk-label-container\"><div class=\"sk-label sk-toggleable\"><input class=\"sk-toggleable__control sk-hidden--visually\" id=\"sk-estimator-id-1\" type=\"checkbox\" ><label for=\"sk-estimator-id-1\" class=\"sk-toggleable__label sk-toggleable__label-arrow\">RandomizedSearchCV</label><div class=\"sk-toggleable__content\"><pre>RandomizedSearchCV(cv=10,\n",
              "                   estimator=XGBClassifier(base_score=None, booster=None,\n",
              "                                           callbacks=None,\n",
              "                                           colsample_bylevel=None,\n",
              "                                           colsample_bynode=None,\n",
              "                                           colsample_bytree=None,\n",
              "                                           early_stopping_rounds=None,\n",
              "                                           enable_categorical=False,\n",
              "                                           eval_metric=None, feature_types=None,\n",
              "                                           gamma=None, gpu_id=None,\n",
              "                                           grow_policy=None,\n",
              "                                           importance_type=None,\n",
              "                                           interaction_constraints=None,\n",
              "                                           learning_rat...\n",
              "                                           min_child_weight=None, missing=nan,\n",
              "                                           monotone_constraints=None,\n",
              "                                           n_estimators=100, n_jobs=None,\n",
              "                                           num_parallel_tree=None,\n",
              "                                           predictor=None, random_state=None, ...),\n",
              "                   param_distributions={&#x27;colsample_bytree&#x27;: [0.8, 0.9, 1],\n",
              "                                        &#x27;learning_rate&#x27;: [0.01, 0.05, 0.1],\n",
              "                                        &#x27;max_depth&#x27;: [3, 4, 5],\n",
              "                                        &#x27;n_estimators&#x27;: [100, 200, 300],\n",
              "                                        &#x27;subsample&#x27;: [0.8, 0.9, 1]},\n",
              "                   random_state=19437278, scoring=&#x27;roc_auc&#x27;, verbose=1)</pre></div></div></div><div class=\"sk-parallel\"><div class=\"sk-parallel-item\"><div class=\"sk-item\"><div class=\"sk-label-container\"><div class=\"sk-label sk-toggleable\"><input class=\"sk-toggleable__control sk-hidden--visually\" id=\"sk-estimator-id-2\" type=\"checkbox\" ><label for=\"sk-estimator-id-2\" class=\"sk-toggleable__label sk-toggleable__label-arrow\">estimator: XGBClassifier</label><div class=\"sk-toggleable__content\"><pre>XGBClassifier(base_score=None, booster=None, callbacks=None,\n",
              "              colsample_bylevel=None, colsample_bynode=None,\n",
              "              colsample_bytree=None, early_stopping_rounds=None,\n",
              "              enable_categorical=False, eval_metric=None, feature_types=None,\n",
              "              gamma=None, gpu_id=None, grow_policy=None, importance_type=None,\n",
              "              interaction_constraints=None, learning_rate=None, max_bin=None,\n",
              "              max_cat_threshold=None, max_cat_to_onehot=None,\n",
              "              max_delta_step=None, max_depth=None, max_leaves=None,\n",
              "              min_child_weight=None, missing=nan, monotone_constraints=None,\n",
              "              n_estimators=100, n_jobs=None, num_parallel_tree=None,\n",
              "              predictor=None, random_state=None, ...)</pre></div></div></div><div class=\"sk-serial\"><div class=\"sk-item\"><div class=\"sk-estimator sk-toggleable\"><input class=\"sk-toggleable__control sk-hidden--visually\" id=\"sk-estimator-id-3\" type=\"checkbox\" ><label for=\"sk-estimator-id-3\" class=\"sk-toggleable__label sk-toggleable__label-arrow\">XGBClassifier</label><div class=\"sk-toggleable__content\"><pre>XGBClassifier(base_score=None, booster=None, callbacks=None,\n",
              "              colsample_bylevel=None, colsample_bynode=None,\n",
              "              colsample_bytree=None, early_stopping_rounds=None,\n",
              "              enable_categorical=False, eval_metric=None, feature_types=None,\n",
              "              gamma=None, gpu_id=None, grow_policy=None, importance_type=None,\n",
              "              interaction_constraints=None, learning_rate=None, max_bin=None,\n",
              "              max_cat_threshold=None, max_cat_to_onehot=None,\n",
              "              max_delta_step=None, max_depth=None, max_leaves=None,\n",
              "              min_child_weight=None, missing=nan, monotone_constraints=None,\n",
              "              n_estimators=100, n_jobs=None, num_parallel_tree=None,\n",
              "              predictor=None, random_state=None, ...)</pre></div></div></div></div></div></div></div></div></div></div>"
            ],
            "text/plain": [
              "RandomizedSearchCV(cv=10,\n",
              "                   estimator=XGBClassifier(base_score=None, booster=None,\n",
              "                                           callbacks=None,\n",
              "                                           colsample_bylevel=None,\n",
              "                                           colsample_bynode=None,\n",
              "                                           colsample_bytree=None,\n",
              "                                           early_stopping_rounds=None,\n",
              "                                           enable_categorical=False,\n",
              "                                           eval_metric=None, feature_types=None,\n",
              "                                           gamma=None, gpu_id=None,\n",
              "                                           grow_policy=None,\n",
              "                                           importance_type=None,\n",
              "                                           interaction_constraints=None,\n",
              "                                           learning_rat...\n",
              "                                           min_child_weight=None, missing=nan,\n",
              "                                           monotone_constraints=None,\n",
              "                                           n_estimators=100, n_jobs=None,\n",
              "                                           num_parallel_tree=None,\n",
              "                                           predictor=None, random_state=None, ...),\n",
              "                   param_distributions={'colsample_bytree': [0.8, 0.9, 1],\n",
              "                                        'learning_rate': [0.01, 0.05, 0.1],\n",
              "                                        'max_depth': [3, 4, 5],\n",
              "                                        'n_estimators': [100, 200, 300],\n",
              "                                        'subsample': [0.8, 0.9, 1]},\n",
              "                   random_state=19437278, scoring='roc_auc', verbose=1)"
            ]
          },
          "execution_count": 10,
          "metadata": {},
          "output_type": "execute_result"
        }
      ],
      "source": [
        "xgb_clf = xgb.XGBClassifier(objective='binary:logistic')\n",
        "\n",
        "# define the hyperparameters to tune\n",
        "param_dist = {\n",
        "    'n_estimators': [100, 200, 300],\n",
        "    'learning_rate': [0.01, 0.05, 0.1],\n",
        "    'max_depth': [3, 4, 5],\n",
        "    'subsample': [0.8, 0.9, 1],\n",
        "    'colsample_bytree': [0.8, 0.9, 1]\n",
        "}\n",
        "\n",
        "# RandomizedSearchCV for hyperparameter tuning\n",
        "random_search = RandomizedSearchCV(estimator=xgb_clf, param_distributions=param_dist, n_iter=10, scoring='roc_auc', cv=10, verbose=1, random_state=19437278)\n",
        "\n",
        "# fit the model\n",
        "random_search.fit(X_train_resampled, y_train_resampled)"
      ]
    },
    {
      "cell_type": "code",
      "execution_count": 11,
      "metadata": {
        "colab": {
          "base_uri": "https://localhost:8080/"
        },
        "id": "L_CM_r_W3czq",
        "outputId": "7e463c63-3c12-492f-fe71-c553de2abcad"
      },
      "outputs": [
        {
          "name": "stdout",
          "output_type": "stream",
          "text": [
            "Test set ROC-AUC score: 0.7672102106841316\n",
            "Test set Precision: 0.36277056277056274\n",
            "Test set Recall: 0.7286956521739131\n",
            "Test set F1-Score: 0.484393063583815\n"
          ]
        }
      ],
      "source": [
        "best_xgb_clf = random_search.best_estimator_\n",
        "y_pred_proba = best_xgb_clf.predict_proba(X_test)[:, 1]\n",
        "\n",
        "y_pred = best_xgb_clf.predict(X_test)\n",
        "\n",
        "# calculate various metrics\n",
        "roc_auc = roc_auc_score(y_test, y_pred_proba)\n",
        "precision = precision_score(y_test, y_pred)\n",
        "recall = recall_score(y_test, y_pred)\n",
        "f1 = f1_score(y_test, y_pred)\n",
        "\n",
        "# print the metrics\n",
        "print(\"Test set ROC-AUC score:\", roc_auc)\n",
        "print(\"Test set Precision:\", precision)\n",
        "print(\"Test set Recall:\", recall)\n",
        "print(\"Test set F1-Score:\", f1)"
      ]
    },
    {
      "cell_type": "code",
      "execution_count": 13,
      "metadata": {
        "colab": {
          "base_uri": "https://localhost:8080/",
          "height": 564
        },
        "id": "Ro8kgVAE3m25",
        "outputId": "2834ba58-5d38-4f05-cd82-e6db4de9ad64"
      },
      "outputs": [
        {
          "data": {
            "image/png": "[encoded data removed]",
            "text/plain": [
              "<Figure size 576x432 with 1 Axes>"
            ]
          },
          "metadata": {
            "needs_background": "light"
          },
          "output_type": "display_data"
        }
      ],
      "source": [
        "# calculate the ROC curve\n",
        "fpr, tpr, thresholds = roc_curve(y_test, y_pred_proba)\n",
        "\n",
        "# plot the ROC curve\n",
        "plt.figure(figsize=(8, 6))\n",
        "plt.plot(fpr, tpr, color='darkorange', lw=2, label=f'ROC curve (area = {roc_auc:.2f})')\n",
        "plt.plot([0, 1], [0, 1], color='gray', lw=2, linestyle='--')\n",
        "plt.xlim([0.0, 1.0])\n",
        "plt.ylim([0.0, 1.05])\n",
        "plt.xlabel('False Positive Rate')\n",
        "plt.ylabel('True Positive Rate')\n",
        "plt.title('Receiver Operating Characteristic (ROC) - XGBoost')\n",
        "plt.legend(loc=\"lower right\")\n",
        "plt.show()"
      ]
    },
    {
      "cell_type": "code",
      "execution_count": 18,
      "metadata": {
        "colab": {
          "base_uri": "https://localhost:8080/"
        },
        "id": "DNF_9fk7qvUF",
        "outputId": "1ca2df88-387a-4a5c-aa8a-47f48d053467"
      },
      "outputs": [],
      "source": [
        "# late fusion data\n",
        "results_df = pd.DataFrame({\n",
        "    'Mortality': y_test,\n",
        "    'Probability': y_pred_proba\n",
        "}, index=X_test.index)\n",
        "\n",
        "# save the DataFrame to a CSV file\n",
        "results_df.to_csv('demo_xgb.csv', index=False)\n",
        "\n",
        "# late fusion data\n",
        "xgb_df = test_ids.to_frame(name='ID').merge(results_df, left_index=True, right_index=True)\n",
        "\n",
        "xgb_df = xgb_df.reset_index(drop=True)\n",
        "\n",
        "# save the DataFrame to a CSV file\n",
        "xgb_df.to_csv('demo_xgb.csv', index=False)"
      ]
    },
    {
      "cell_type": "code",
      "execution_count": 19,
      "metadata": {},
      "outputs": [
        {
          "name": "stdout",
          "output_type": "stream",
          "text": [
            "0.7672102106841316\n"
          ]
        }
      ],
      "source": [
        "print(roc_auc_score(results_df['Mortality'], results_df['Probability']))"
      ]
    }
  ],
  "metadata": {
    "colab": {
      "machine_shape": "hm",
      "provenance": []
    },
    "kernelspec": {
      "display_name": "Python 3",
      "name": "python3"
    },
    "language_info": {
      "codemirror_mode": {
        "name": "ipython",
        "version": 3
      },
      "file_extension": ".py",
      "mimetype": "text/x-python",
      "name": "python",
      "nbconvert_exporter": "python",
      "pygments_lexer": "ipython3",
      "version": "3.10.9"
    }
  },
  "nbformat": 4,
  "nbformat_minor": 0
}
