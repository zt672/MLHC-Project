{
  "cells": [
    {
      "cell_type": "code",
      "execution_count": 1,
      "metadata": {
        "id": "V65q6zTgsEYx"
      },
      "outputs": [],
      "source": [
        "import warnings\n",
        "warnings.filterwarnings(\"ignore\")\n",
        "import pandas as pd\n",
        "import numpy as np\n",
        "import re\n",
        "import nltk\n",
        "from nltk.corpus import stopwords\n",
        "from sklearn.feature_extraction.text import TfidfVectorizer\n",
        "from sklearn.preprocessing import OneHotEncoder\n",
        "from scipy.sparse import hstack\n",
        "import matplotlib.pyplot as plt\n",
        "from tensorflow.keras.preprocessing.text import Tokenizer\n",
        "from tensorflow.keras.preprocessing.sequence import pad_sequences\n",
        "from imblearn.under_sampling import RandomUnderSampler\n",
        "from tensorflow.keras.models import Model, Sequential\n",
        "from tensorflow.keras.layers import Input, Embedding, Conv1D, MaxPooling1D, Flatten, Dense, Dropout, concatenate\n",
        "import scipy\n",
        "from sklearn.metrics import roc_auc_score, precision_score, recall_score, f1_score, roc_curve\n",
        "from tensorflow.keras.optimizers import Adam\n",
        "import random\n",
        "import itertools\n",
        "import csv\n",
        "from tensorflow.keras.callbacks import EarlyStopping"
      ]
    },
    {
      "cell_type": "code",
      "execution_count": 2,
      "metadata": {
        "colab": {
          "base_uri": "https://localhost:8080/"
        },
        "id": "b8CqjJhrtpfW",
        "outputId": "7f85ab5e-2964-489a-9d4d-59340aa8f129"
      },
      "outputs": [
        {
          "name": "stderr",
          "output_type": "stream",
          "text": [
            "[nltk_data] Downloading package stopwords to /root/nltk_data...\n",
            "[nltk_data]   Unzipping corpora/stopwords.zip.\n"
          ]
        },
        {
          "data": {
            "text/plain": [
              "True"
            ]
          },
          "execution_count": 2,
          "metadata": {},
          "output_type": "execute_result"
        }
      ],
      "source": [
        "nltk.download('stopwords')"
      ]
    },
    {
      "cell_type": "code",
      "execution_count": 3,
      "metadata": {
        "id": "jm_tjBaZtxBo"
      },
      "outputs": [],
      "source": [
        "notes = pd.read_csv('/content/patient_notes.csv')\n",
        "\n",
        "notes = notes.drop(columns=['hadm_id','chartdate','category'])\n",
        "\n",
        "notes = notes.groupby('subject_id').agg({'text': ' '.join, 'mortality': 'first'}).reset_index()\n",
        "\n",
        "stop_words = set(stopwords.words('english'))\n",
        "for i in range(len(notes)):\n",
        "  s = notes['text'][i]\n",
        "  # lowercasing\n",
        "  s = s.lower()\n",
        "  # remove punctuation\n",
        "  s = re.sub(r'[^\\w\\s]', '', s)\n",
        "  # remove stopwords\n",
        "  s = ' '.join([word for word in s.split() if word not in stop_words])\n",
        "  notes['text'][i] = s"
      ]
    },
    {
      "cell_type": "code",
      "execution_count": 4,
      "metadata": {
        "id": "TjSeqGXLubYn"
      },
      "outputs": [],
      "source": [
        "test_ids = pd.read_csv('/content/demo_xgb.csv')\n",
        "\n",
        "# split the data\n",
        "train = notes[~notes['subject_id'].isin(test_ids['ID'])]\n",
        "test = notes[notes['subject_id'].isin(test_ids['ID'])]"
      ]
    },
    {
      "cell_type": "code",
      "execution_count": 5,
      "metadata": {
        "id": "UuWyYDqammUU"
      },
      "outputs": [],
      "source": [
        "# preprocess the text data and compute the TF-IDF features\n",
        "vectorizer = TfidfVectorizer()\n",
        "\n",
        "# train\n",
        "X_train = vectorizer.fit_transform(train['text'])\n",
        "y_train = np.array(train['mortality'])\n",
        "\n",
        "# test\n",
        "X_test = vectorizer.transform(test['text'])\n",
        "y_test = np.array(test['mortality'])"
      ]
    },
    {
      "cell_type": "code",
      "execution_count": 6,
      "metadata": {
        "id": "icb4VnI5uopU"
      },
      "outputs": [],
      "source": [
        "# initialize the undersampler\n",
        "undersampler = RandomUnderSampler(random_state=19437278)\n",
        "# apply undersampling to the training set\n",
        "X_train_resampled, y_train_resampled = undersampler.fit_resample(X_train, y_train)"
      ]
    },
    {
      "cell_type": "code",
      "execution_count": 7,
      "metadata": {
        "id": "OxAhHV5vpBVG"
      },
      "outputs": [],
      "source": [
        "X_train_dense = X_train_resampled.toarray()  # convert to dense array\n",
        "X_test_dense = X_test.toarray()\n",
        "\n",
        "# reshape the data for the CNN input\n",
        "X_train_reshaped = X_train_dense.reshape((X_train_dense.shape[0], X_train_dense.shape[1], 1))\n",
        "X_test_reshaped = X_test_dense.reshape((X_test_dense.shape[0], X_test_dense.shape[1], 1))"
      ]
    },
    {
      "cell_type": "code",
      "execution_count": 8,
      "metadata": {
        "colab": {
          "base_uri": "https://localhost:8080/",
          "height": 53
        },
        "id": "BGSgBXsjtyUw",
        "outputId": "68540240-c421-4026-a8ab-812ff0d2e226"
      },
      "outputs": [
        {
          "data": {
            "application/vnd.google.colaboratory.intrinsic+json": {
              "type": "string"
            },
            "text/plain": [
              "\"param_space = {\\n    'num_filters': [32, 64, 128],\\n    'kernel_size': [3, 5, 7],\\n    'activation': ['relu', 'tanh'],\\n    'optimizer': ['adam', 'rmsprop'],\\n    'dropout_rate': [0.3, 0.5, 0.7]\\n}\""
            ]
          },
          "execution_count": 8,
          "metadata": {},
          "output_type": "execute_result"
        }
      ],
      "source": [
        "'''param_space = {\n",
        "    'num_filters': [32, 64, 128],\n",
        "    'kernel_size': [3, 5, 7],\n",
        "    'activation': ['relu', 'tanh'],\n",
        "    'optimizer': ['adam', 'rmsprop'],\n",
        "    'dropout_rate': [0.3, 0.5, 0.7]\n",
        "}'''"
      ]
    },
    {
      "cell_type": "code",
      "execution_count": 8,
      "metadata": {
        "id": "Tif0RcXoV3i6"
      },
      "outputs": [],
      "source": [
        "# sample input shape (replace with your actual data shape)\n",
        "input_shape = (X_train_reshaped.shape[1], 1)"
      ]
    },
    {
      "cell_type": "code",
      "execution_count": 10,
      "metadata": {
        "colab": {
          "base_uri": "https://localhost:8080/",
          "height": 107
        },
        "id": "0KOGYpSnncLA",
        "outputId": "da9713f3-19c1-4d41-e517-e3fba6ac08a6"
      },
      "outputs": [
        {
          "data": {
            "application/vnd.google.colaboratory.intrinsic+json": {
              "type": "string"
            },
            "text/plain": [
              "\"def create_compile_model(num_filters, kernel_size, activation, optimizer, dropout_rate):\\n    model = Sequential([\\n        Conv1D(filters=num_filters, kernel_size=kernel_size, activation=activation, input_shape=(X_train_reshaped.shape[1], 1)),\\n        MaxPooling1D(2),\\n        Flatten(),\\n        Dense(10, activation=activation),\\n        Dropout(dropout_rate),\\n        Dense(1, activation='sigmoid')\\n    ])\\n    model.compile(optimizer=optimizer, loss='binary_crossentropy', metrics=['accuracy'])\\n    return model\""
            ]
          },
          "execution_count": 10,
          "metadata": {},
          "output_type": "execute_result"
        }
      ],
      "source": [
        "'''def create_compile_model(num_filters, kernel_size, activation, optimizer, dropout_rate):\n",
        "    model = Sequential([\n",
        "        Conv1D(filters=num_filters, kernel_size=kernel_size, activation=activation, input_shape=(X_train_reshaped.shape[1], 1)),\n",
        "        MaxPooling1D(2),\n",
        "        Flatten(),\n",
        "        Dense(10, activation=activation),\n",
        "        Dropout(dropout_rate),\n",
        "        Dense(1, activation='sigmoid')\n",
        "    ])\n",
        "    model.compile(optimizer=optimizer, loss='binary_crossentropy', metrics=['accuracy'])\n",
        "    return model'''"
      ]
    },
    {
      "cell_type": "code",
      "execution_count": 9,
      "metadata": {
        "colab": {
          "base_uri": "https://localhost:8080/"
        },
        "id": "VH1Vqsb8WDa3",
        "outputId": "284cda2c-5f2b-4355-c240-2cfb570cfc7b"
      },
      "outputs": [
        {
          "name": "stdout",
          "output_type": "stream",
          "text": [
            "Model: \"sequential\"\n",
            "_________________________________________________________________\n",
            " Layer (type)                Output Shape              Param #   \n",
            "=================================================================\n",
            " conv1d (Conv1D)             (None, 161627, 64)        256       \n",
            "                                                                 \n",
            " max_pooling1d (MaxPooling1  (None, 80813, 64)         0         \n",
            " D)                                                              \n",
            "                                                                 \n",
            " conv1d_1 (Conv1D)           (None, 80811, 128)        24704     \n",
            "                                                                 \n",
            " max_pooling1d_1 (MaxPoolin  (None, 40405, 128)        0         \n",
            " g1D)                                                            \n",
            "                                                                 \n",
            " flatten (Flatten)           (None, 5171840)           0         \n",
            "                                                                 \n",
            " dense (Dense)               (None, 10)                51718410  \n",
            "                                                                 \n",
            " dropout (Dropout)           (None, 10)                0         \n",
            "                                                                 \n",
            " dense_1 (Dense)             (None, 1)                 11        \n",
            "                                                                 \n",
            "=================================================================\n",
            "Total params: 51743381 (197.39 MB)\n",
            "Trainable params: 51743381 (197.39 MB)\n",
            "Non-trainable params: 0 (0.00 Byte)\n",
            "_________________________________________________________________\n"
          ]
        }
      ],
      "source": [
        "# define model\n",
        "model = Sequential()\n",
        "model.add(Conv1D(filters=64, kernel_size=3, activation='relu', input_shape=input_shape))\n",
        "model.add(MaxPooling1D(2))\n",
        "model.add(Conv1D(filters=128, kernel_size=3, activation='relu'))\n",
        "model.add(MaxPooling1D(2))\n",
        "model.add(Flatten())\n",
        "model.add(Dense(10, activation='relu'))\n",
        "model.add(Dropout(0.3))\n",
        "model.add(Dense(1, activation='sigmoid'))\n",
        "\n",
        "# compile the model\n",
        "model.compile(optimizer='adam', loss='binary_crossentropy', metrics=['accuracy'])\n",
        "\n",
        "# view structure\n",
        "model.summary()"
      ]
    },
    {
      "cell_type": "code",
      "execution_count": 12,
      "metadata": {
        "colab": {
          "base_uri": "https://localhost:8080/",
          "height": 160
        },
        "id": "yHhKUIU4sjcE",
        "outputId": "44260fef-dd31-4cf9-f4ab-d08f2ef7820d"
      },
      "outputs": [
        {
          "data": {
            "application/vnd.google.colaboratory.intrinsic+json": {
              "type": "string"
            },
            "text/plain": [
              "'# random search\\nnum_iterations = 10  # number of iterations for the random search\\nbest_score = 0\\nbest_params = {}\\n\\nfor i in range(num_iterations):\\n    # randomly sample parameters\\n    params = {k: random.choice(v) for k, v in param_space.items()}\\n    print(f\"Training with parameters: {params}\")\\n\\n    # create and compile model\\n    model = create_compile_model(**params)\\n\\n    # fit the model\\n    model.fit(X_train_reshaped, y_train_resampled, epochs=10, verbose=0)\\n\\n    # evaluate the model\\n    y_pred_probs = model.predict(X_test_reshaped)\\n    score = roc_auc_score(y_test, y_pred_probs)\\n\\n    # if the new score is better, update best_score and best_params\\n    if score > best_score:\\n        best_score = score\\n        best_params = params\\n        best_model = model\\n\\n# print best score and parameters\\nprint(f\"Best AUC Score: {best_score}\")\\nprint(f\"Best Parameters: {best_params}\")'"
            ]
          },
          "execution_count": 12,
          "metadata": {},
          "output_type": "execute_result"
        }
      ],
      "source": [
        "'''# random search\n",
        "num_iterations = 10  # number of iterations for the random search\n",
        "best_score = 0\n",
        "best_params = {}\n",
        "\n",
        "for i in range(num_iterations):\n",
        "    # randomly sample parameters\n",
        "    params = {k: random.choice(v) for k, v in param_space.items()}\n",
        "    print(f\"Training with parameters: {params}\")\n",
        "\n",
        "    # create and compile model\n",
        "    model = create_compile_model(**params)\n",
        "\n",
        "    # fit the model\n",
        "    model.fit(X_train_reshaped, y_train_resampled, epochs=10, verbose=0)\n",
        "\n",
        "    # evaluate the model\n",
        "    y_pred_probs = model.predict(X_test_reshaped)\n",
        "    score = roc_auc_score(y_test, y_pred_probs)\n",
        "\n",
        "    # if the new score is better, update best_score and best_params\n",
        "    if score > best_score:\n",
        "        best_score = score\n",
        "        best_params = params\n",
        "        best_model = model\n",
        "\n",
        "# print best score and parameters\n",
        "print(f\"Best AUC Score: {best_score}\")\n",
        "print(f\"Best Parameters: {best_params}\")'''"
      ]
    },
    {
      "cell_type": "code",
      "execution_count": 10,
      "metadata": {
        "colab": {
          "base_uri": "https://localhost:8080/"
        },
        "id": "ggNPz7z-WT6w",
        "outputId": "42b00b8c-6bf2-4f31-def9-a23fb8526cec"
      },
      "outputs": [
        {
          "name": "stdout",
          "output_type": "stream",
          "text": [
            "Epoch 1/100\n",
            "76/76 [==============================] - 19s 174ms/step - loss: 0.6874 - accuracy: 0.5598 - val_loss: 0.6877 - val_accuracy: 0.5204\n",
            "Epoch 2/100\n",
            "76/76 [==============================] - 12s 154ms/step - loss: 0.5331 - accuracy: 0.7429 - val_loss: 1.0144 - val_accuracy: 0.4089\n",
            "Epoch 3/100\n",
            "76/76 [==============================] - 12s 154ms/step - loss: 0.2595 - accuracy: 0.8845 - val_loss: 1.1991 - val_accuracy: 0.4833\n",
            "Epoch 4/100\n",
            "76/76 [==============================] - 12s 154ms/step - loss: 0.1573 - accuracy: 0.9337 - val_loss: 1.5224 - val_accuracy: 0.4647\n",
            "Epoch 5/100\n",
            "76/76 [==============================] - 12s 154ms/step - loss: 0.0982 - accuracy: 0.9573 - val_loss: 1.5391 - val_accuracy: 0.5576\n",
            "Epoch 6/100\n",
            "76/76 [==============================] - 12s 154ms/step - loss: 0.0666 - accuracy: 0.9710 - val_loss: 2.8072 - val_accuracy: 0.3755\n",
            "Epoch 7/100\n",
            "76/76 [==============================] - 12s 153ms/step - loss: 0.0637 - accuracy: 0.9731 - val_loss: 3.4808 - val_accuracy: 0.3569\n",
            "Epoch 8/100\n",
            "76/76 [==============================] - 12s 153ms/step - loss: 0.0625 - accuracy: 0.9747 - val_loss: 3.5584 - val_accuracy: 0.3457\n",
            "Epoch 9/100\n",
            "76/76 [==============================] - 12s 153ms/step - loss: 0.0598 - accuracy: 0.9747 - val_loss: 3.9940 - val_accuracy: 0.3680\n",
            "Epoch 10/100\n",
            "76/76 [==============================] - 12s 153ms/step - loss: 0.0579 - accuracy: 0.9735 - val_loss: 3.6535 - val_accuracy: 0.3903\n",
            "Epoch 11/100\n",
            "76/76 [==============================] - 12s 153ms/step - loss: 0.0481 - accuracy: 0.9789 - val_loss: 4.4842 - val_accuracy: 0.3903\n",
            "Epoch 11: early stopping\n"
          ]
        },
        {
          "data": {
            "text/plain": [
              "<keras.src.callbacks.History at 0x7ca3b7160f70>"
            ]
          },
          "execution_count": 10,
          "metadata": {},
          "output_type": "execute_result"
        }
      ],
      "source": [
        "early_stopping = EarlyStopping(monitor='val_loss', patience=10, verbose=1)\n",
        "\n",
        "# fit the model\n",
        "model.fit(\n",
        "    X_train_reshaped,\n",
        "    y_train_resampled,\n",
        "    epochs=100,\n",
        "    batch_size=32,\n",
        "    verbose=1,\n",
        "    validation_split=0.1,\n",
        "    callbacks=[early_stopping]\n",
        ")"
      ]
    },
    {
      "cell_type": "code",
      "execution_count": 11,
      "metadata": {
        "colab": {
          "base_uri": "https://localhost:8080/"
        },
        "id": "R6kU3SK9nqfS",
        "outputId": "381dbee3-8253-42f1-c1fc-fdb555c0141c"
      },
      "outputs": [
        {
          "name": "stdout",
          "output_type": "stream",
          "text": [
            "87/87 [==============================] - 6s 66ms/step\n",
            "AUC Score: 0.7446800284068492\n",
            "Precision: 0.38318777292576417\n",
            "Recall: 0.6104347826086957\n",
            "F1 Score: 0.4708249496981891\n"
          ]
        }
      ],
      "source": [
        "# evaluate the best model\n",
        "y_pred_probs = model.predict(X_test_reshaped)\n",
        "auc_score = roc_auc_score(y_test, y_pred_probs)\n",
        "y_pred = (y_pred_probs > 0.5).astype(int)\n",
        "\n",
        "# calculate metrics\n",
        "precision = precision_score(y_test, y_pred)\n",
        "recall = recall_score(y_test, y_pred)\n",
        "f1 = f1_score(y_test, y_pred)\n",
        "\n",
        "# print metrics\n",
        "print(f'AUC Score: {auc_score}')\n",
        "print(f'Precision: {precision}')\n",
        "print(f'Recall: {recall}')\n",
        "print(f'F1 Score: {f1}')"
      ]
    },
    {
      "cell_type": "code",
      "execution_count": 13,
      "metadata": {
        "colab": {
          "base_uri": "https://localhost:8080/",
          "height": 564
        },
        "id": "Hp4i3n9e_HSt",
        "outputId": "9ba38e92-cea6-4d0d-a2fb-6809f2d99ded"
      },
      "outputs": [
        {
          "data": {
            "image/png": "[encoded data removed]",
            "text/plain": [
              "<Figure size 800x600 with 1 Axes>"
            ]
          },
          "metadata": {},
          "output_type": "display_data"
        }
      ],
      "source": [
        "# ROC curve\n",
        "fpr, tpr, _ = roc_curve(y_test, y_pred_probs)\n",
        "plt.figure(figsize=(8, 6))\n",
        "plt.plot(fpr, tpr, color='darkorange', lw=2, label=f'ROC curve (area = {auc_score:.2f})')\n",
        "plt.plot([0, 1], [0, 1], color='navy', lw=2, linestyle='--')\n",
        "plt.xlabel('False Positive Rate')\n",
        "plt.ylabel('True Positive Rate')\n",
        "plt.title('TextCNN Receiver Operating Characteristic (ROC)')\n",
        "plt.legend(loc='lower right')\n",
        "plt.show()"
      ]
    },
    {
      "cell_type": "code",
      "execution_count": 14,
      "metadata": {
        "colab": {
          "base_uri": "https://localhost:8080/"
        },
        "id": "f7IFN8ciRNTZ",
        "outputId": "1a05ffa0-86e6-4edb-c5af-926ecc0b6e03"
      },
      "outputs": [
        {
          "name": "stdout",
          "output_type": "stream",
          "text": [
            "Data saved to notes_cnn.csv\n"
          ]
        }
      ],
      "source": [
        "data = {\n",
        "    'ID': test['subject_id'],\n",
        "    'Probability': y_pred_probs.ravel(), \n",
        "    'Mortality': y_test\n",
        "}\n",
        "\n",
        "df = pd.DataFrame(data)\n",
        "\n",
        "csv_file = 'notes_cnn.csv'\n",
        "df.to_csv(csv_file, index=False)\n",
        "print(f\"Data saved to {csv_file}\")"
      ]
    }
  ],
  "metadata": {
    "accelerator": "GPU",
    "colab": {
      "gpuType": "V100",
      "machine_shape": "hm",
      "provenance": []
    },
    "kernelspec": {
      "display_name": "Python 3",
      "name": "python3"
    },
    "language_info": {
      "name": "python"
    }
  },
  "nbformat": 4,
  "nbformat_minor": 0
}
